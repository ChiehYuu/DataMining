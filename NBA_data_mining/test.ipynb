{
 "cells": [
  {
   "cell_type": "code",
   "execution_count": null,
   "metadata": {},
   "outputs": [],
   "source": [
    "from nba_api.stats.endpoints import shotchartdetail\n",
    "from nba_api.stats.static import players\n",
    "from nba_api.stats.endpoints import playercareerstats\n",
    "import pandas as pd"
   ]
  },
  {
   "cell_type": "code",
   "execution_count": null,
   "metadata": {},
   "outputs": [],
   "source": [
    "pd.set_option('display.max_columns', None)\n",
    "pd.set_option('display.max_rows', None)"
   ]
  },
  {
   "cell_type": "code",
   "execution_count": null,
   "metadata": {},
   "outputs": [],
   "source": [
    "# player dictionary\n",
    "nba_players = players.get_players()\n",
    "player_dict = [player for player in nba_players if player['full_name'] == 'Aaron Gordon'][0]\n",
    "# career df\n",
    "career = playercareerstats.PlayerCareerStats(player_id=player_dict['id'])\n",
    "career_df = career.get_data_frames()[0]\n",
    "career_df"
   ]
  },
  {
   "cell_type": "code",
   "execution_count": null,
   "metadata": {},
   "outputs": [],
   "source": [
    "season_id = '2022-23'\n",
    "# team id during the season\n",
    "team_id = career_df[career_df['SEASON_ID'] == season_id]['TEAM_ID']\n",
    "\n",
    "# shotchardtdetail endpoint\n",
    "shotchartlist = shotchartdetail.ShotChartDetail(team_id=int(team_id), \n",
    "                                                player_id=int(player_dict['id']), \n",
    "                                                season_type_all_star='Regular Season', \n",
    "                                                season_nullable=season_id,\n",
    "                                                context_measure_simple=\"FGA\").get_data_frames()"
   ]
  },
  {
   "cell_type": "code",
   "execution_count": null,
   "metadata": {},
   "outputs": [],
   "source": [
    "shotchartlist[0]"
   ]
  },
  {
   "cell_type": "code",
   "execution_count": null,
   "metadata": {},
   "outputs": [],
   "source": [
    "shotchartlist[1]"
   ]
  },
  {
   "attachments": {},
   "cell_type": "markdown",
   "metadata": {},
   "source": [
    "# Draw Court"
   ]
  },
  {
   "cell_type": "code",
   "execution_count": null,
   "metadata": {},
   "outputs": [],
   "source": [
    "import matplotlib.pyplot as plt\n",
    "from matplotlib.patches import Circle, Rectangle, Arc\n",
    "%matplotlib inline"
   ]
  },
  {
   "cell_type": "code",
   "execution_count": null,
   "metadata": {},
   "outputs": [],
   "source": [
    "plt.rcParams['figure.figsize'] = (12, 11)\n",
    "plt.figure(facecolor='black')\n",
    "lw = 2\n",
    "color = 'white'\n",
    "ax = plt.gca()\n",
    "ax.axes.xaxis.set_visible(False)\n",
    "ax.axes.yaxis.set_visible(False)\n",
    "#plt.axis('off')\n",
    "ax.set_facecolor(\"black\")\n",
    "ax.set_xlim((-250, 250))\n",
    "ax.set_ylim((422.5, -47.5))\n",
    "\n",
    "# 新增底圖\n",
    "# img = plt.imread(\"ttttttt.jpeg\")\n",
    "# ax.imshow(img, extent=[-250, 250, -47.5, 422.5])\n",
    "\n",
    "hoop = Circle((0, 0), radius=7.5, linewidth=lw, color=color, fill=False)\n",
    "\n",
    "# Create backboard\n",
    "backboard = Rectangle((-30, -12.5), 60, 0, linewidth=lw, color=color)\n",
    "\n",
    "\n",
    "center_outer_arc = Arc((0, 422.5), 120, 120, theta1=180, theta2=0,\n",
    "                        linewidth=lw, color=color)\n",
    "center_inner_arc = Arc((0, 422.5), 40, 40, theta1=180, theta2=0,\n",
    "                        linewidth=lw, color=color)\n",
    "\n",
    "# Create the outer box 0f the paint, width=16ft, height=19ft\n",
    "outer_box = Rectangle((-80, -47.5), 160, 190, linewidth=lw, color=color,\n",
    "                        fill=False)\n",
    "# Create the inner box of the paint, widt=12ft, height=19ft\n",
    "inner_box = Rectangle((-60, -47.5), 120, 190, linewidth=lw, color=color,\n",
    "                        fill=False)\n",
    "\n",
    "# Create free throw top arc\n",
    "top_free_throw = Arc((0, 142.5), 120, 120, theta1=0, theta2=180,\n",
    "                        linewidth=lw, color=color, fill=False)\n",
    "# Create free throw bottom arc\n",
    "bottom_free_throw = Arc((0, 142.5), 120, 120, theta1=180, theta2=0,\n",
    "                        linewidth=lw, color=color, linestyle='dashed')\n",
    "# Restricted Zone, it is an arc with 4ft radius from center of the hoop\n",
    "restricted = Arc((0, 0), 80, 80, theta1=0, theta2=180, linewidth=lw,\n",
    "                    color=color)\n",
    "\n",
    "# Three point line\n",
    "# Create the right side 3pt lines, it's 14ft long before it arcs\n",
    "corner_three_a = Rectangle((-220, -47.5), 0, 140, linewidth=lw,\n",
    "                            color=color)\n",
    "# Create the right side 3pt lines, it's 14ft long before it arcs\n",
    "corner_three_b = Rectangle((220, -47.5), 0, 140, linewidth=lw, color=color)\n",
    "# 3pt arc - center of arc will be the hoop, arc is 23'9\" away from hoop\n",
    "three_arc = Arc((0, 0), 475, 475, theta1=22, theta2=158, linewidth=lw,\n",
    "                color=color)\n",
    "\n",
    "outer_lines = Rectangle((-250, -47.5), 500, 470, linewidth=3,\n",
    "                            color=color, fill=False)\n",
    "\n",
    "\n",
    "court_elements=[hoop, backboard, outer_box, inner_box, top_free_throw, bottom_free_throw,\n",
    "                restricted, corner_three_a, corner_three_b, three_arc,\n",
    "                center_outer_arc, center_inner_arc, outer_lines]\n",
    "for element in court_elements:\n",
    "    ax.add_patch(element)\n",
    "ax.scatter(x_missed, y_missed, c='r', marker=\"x\", s=300, linewidths=3)\n",
    "ax.scatter(x_made, y_made, facecolors='none', edgecolors='g', marker=\"o\", s=100, linewidths=3)\n",
    "plt.savefig('test.png')\n",
    "\n",
    "plt.show()"
   ]
  },
  {
   "cell_type": "code",
   "execution_count": null,
   "metadata": {},
   "outputs": [],
   "source": [
    "title = 'test'\n",
    "color=\"b\"\n",
    "xlim=(-250, 250) \n",
    "ylim=(422.5, -47.5)\n",
    "line_color=\"blue\"\n",
    "color=\"blue\"\n",
    "lw=2\n",
    "outer_lines=False\n",
    "flip_court=False\n",
    "gridsize=None\n",
    "ax=None\n",
    "despine=False"
   ]
  },
  {
   "cell_type": "code",
   "execution_count": null,
   "metadata": {},
   "outputs": [],
   "source": [
    "plt.rcParams['figure.figsize'] = (12, 11)\n",
    "\n",
    "ax = plt.gca()\n",
    "ax.set_xlim(xlim)\n",
    "ax.set_ylim(ylim)\n",
    "# Create the basketball hoop\n",
    "hoop = Circle((0, 0), radius=7.5, linewidth=lw, color=color, fill=False)\n",
    "\n",
    "# Create backboard\n",
    "backboard = Rectangle((-30, -12.5), 60, 0, linewidth=lw, color=color)\n",
    "\n",
    "# The paint\n",
    "# Create the outer box 0f the paint, width=16ft, height=19ft\n",
    "outer_box = Rectangle((-80, -47.5), 160, 190, linewidth=lw, color=color,\n",
    "                        fill=False)\n",
    "# Create the inner box of the paint, widt=12ft, height=19ft\n",
    "inner_box = Rectangle((-60, -47.5), 120, 190, linewidth=lw, color=color,\n",
    "                        fill=False)\n",
    "\n",
    "# Create free throw top arc\n",
    "top_free_throw = Arc((0, 142.5), 120, 120, theta1=0, theta2=180,\n",
    "                        linewidth=lw, color=color, fill=False)\n",
    "# Create free throw bottom arc\n",
    "bottom_free_throw = Arc((0, 142.5), 120, 120, theta1=180, theta2=0,\n",
    "                        linewidth=lw, color=color, linestyle='dashed')\n",
    "# Restricted Zone, it is an arc with 4ft radius from center of the hoop\n",
    "restricted = Arc((0, 0), 80, 80, theta1=0, theta2=180, linewidth=lw,\n",
    "                    color=color)\n",
    "\n",
    "# Three point line\n",
    "# Create the right side 3pt lines, it's 14ft long before it arcs\n",
    "corner_three_a = Rectangle((-220, -47.5), 0, 140, linewidth=lw,\n",
    "                            color=color)\n",
    "# Create the right side 3pt lines, it's 14ft long before it arcs\n",
    "corner_three_b = Rectangle((220, -47.5), 0, 140, linewidth=lw, color=color)\n",
    "# 3pt arc - center of arc will be the hoop, arc is 23'9\" away from hoop\n",
    "three_arc = Arc((0, 0), 475, 475, theta1=22, theta2=158, linewidth=lw,\n",
    "                color=color)\n",
    "\n",
    "# Center Court\n",
    "center_outer_arc = Arc((0, 422.5), 120, 120, theta1=180, theta2=0,\n",
    "                        linewidth=lw, color=color)\n",
    "center_inner_arc = Arc((0, 422.5), 40, 40, theta1=180, theta2=0,\n",
    "                        linewidth=lw, color=color)\n",
    "\n",
    "inner_circle = Circle((0, 0), radius=80, linewidth=lw, color='black', fill=False)\n",
    "outer_circle = Circle((0, 0), radius=160, linewidth=lw, color='black', fill=False)\n",
    "corner_three_a_x =  Rectangle((-250, 92.5), 30, 0, linewidth=lw, color=color)\n",
    "corner_three_b_x = Rectangle((220, 92.5), 30, 0, linewidth=lw, color=color)\n",
    "\n",
    "# 60 degrees\n",
    "inner_line_1 = Rectangle((40, 69.28), 80, 0, 60, linewidth=lw, color=color)\n",
    "# 120 degrees\n",
    "inner_line_2 = Rectangle((-40, 69.28), 80, 0, 120, linewidth=lw, color=color)\n",
    "\n",
    "# Assume x distance is also 40 for the endpoint\n",
    "inner_line_3 = Rectangle((53.20, 150.89), 290, 0, 70.53, linewidth=lw, color=color)\n",
    "inner_line_4 = Rectangle((-53.20, 150.89), 290, 0, 109.47, linewidth=lw, color=color)\n",
    "\n",
    "# Assume y distance is also 92.5 for the endpoint\n",
    "inner_line_5 = Rectangle((130.54, 92.5), 80, 0, 35.32, linewidth=lw, color=color)\n",
    "inner_line_6 = Rectangle((-130.54, 92.5), 80, 0, 144.68, linewidth=lw, color=color)\n",
    "    \n",
    "    \n",
    "court_elements = [hoop, backboard, outer_box, inner_box, top_free_throw,\n",
    "                          bottom_free_throw, restricted, corner_three_a,\n",
    "                          corner_three_b, three_arc, center_outer_arc,\n",
    "                          center_inner_arc]\n",
    "    \n",
    "\n",
    "ax.tick_params(labelbottom=\"off\", labelleft=\"off\")\n",
    "ax.set_title(title, fontsize=18)\n",
    "\n",
    "\n",
    "\n",
    "for element in court_elements:\n",
    "    ax.add_patch(element)\n",
    "\n",
    "# plot missed shots\n",
    "# ax.scatter(x_missed, y_missed, c='r', marker=\"x\", s=300, linewidths=3)\n",
    "# plot made shots\n",
    "# ax.scatter(x_made, y_made, facecolors='none', edgecolors='g', marker=\"o\", s=100, linewidths=3)\n",
    "# plt.savefig('test.png')\n",
    "plt.show()\n"
   ]
  },
  {
   "cell_type": "code",
   "execution_count": null,
   "metadata": {},
   "outputs": [],
   "source": [
    "ax = plt.gca()\n",
    "\n",
    "# Create the various parts of an NBA basketball court\n",
    "\n",
    "# Create the basketball hoop\n",
    "hoop = Circle((0, 0), radius=7.5, linewidth=lw, color=color, fill=False)\n",
    "\n",
    "# Create backboard\n",
    "backboard = Rectangle((-30, -12.5), 60, 0, linewidth=lw, color=color)\n",
    "\n",
    "# The paint\n",
    "# Create the outer box 0f the paint, width=16ft, height=19ft\n",
    "outer_box = Rectangle((-80, -47.5), 160, 190, linewidth=lw, color=color,\n",
    "                        fill=False)\n",
    "# Create the inner box of the paint, widt=12ft, height=19ft\n",
    "inner_box = Rectangle((-60, -47.5), 120, 190, linewidth=lw, color=color,\n",
    "                        fill=False)\n",
    "\n",
    "# Create free throw top arc\n",
    "top_free_throw = Arc((0, 142.5), 120, 120, theta1=0, theta2=180,\n",
    "                        linewidth=lw, color=color, fill=False)\n",
    "# Create free throw bottom arc\n",
    "bottom_free_throw = Arc((0, 142.5), 120, 120, theta1=180, theta2=0,\n",
    "                        linewidth=lw, color=color, linestyle='dashed')\n",
    "# Restricted Zone, it is an arc with 4ft radius from center of the hoop\n",
    "restricted = Arc((0, 0), 80, 80, theta1=0, theta2=180, linewidth=lw,\n",
    "                    color=color)\n",
    "\n",
    "# Three point line\n",
    "# Create the right side 3pt lines, it's 14ft long before it arcs\n",
    "corner_three_a = Rectangle((-220, -47.5), 0, 140, linewidth=lw,\n",
    "                            color=color)\n",
    "# Create the right side 3pt lines, it's 14ft long before it arcs\n",
    "corner_three_b = Rectangle((220, -47.5), 0, 140, linewidth=lw, color=color)\n",
    "# 3pt arc - center of arc will be the hoop, arc is 23'9\" away from hoop\n",
    "three_arc = Arc((0, 0), 475, 475, theta1=22, theta2=158, linewidth=lw,\n",
    "                color=color)\n",
    "\n",
    "# Center Court\n",
    "center_outer_arc = Arc((0, 422.5), 120, 120, theta1=180, theta2=0,\n",
    "                        linewidth=lw, color=color)\n",
    "center_inner_arc = Arc((0, 422.5), 40, 40, theta1=180, theta2=0,\n",
    "                        linewidth=lw, color=color)\n",
    "\n",
    "# Draw shotzone Lines\n",
    "# Based on Advanced Zone Mode\n",
    "if (shotzone == True):\n",
    "    inner_circle = Circle((0, 0), radius=80, linewidth=lw, color='black', fill=False)\n",
    "    outer_circle = Circle((0, 0), radius=160, linewidth=lw, color='black', fill=False)\n",
    "    corner_three_a_x =  Rectangle((-250, 92.5), 30, 0, linewidth=lw, color=color)\n",
    "    corner_three_b_x = Rectangle((220, 92.5), 30, 0, linewidth=lw, color=color)\n",
    "    \n",
    "    # 60 degrees\n",
    "    inner_line_1 = Rectangle((40, 69.28), 80, 0, 60, linewidth=lw, color=color)\n",
    "    # 120 degrees\n",
    "    inner_line_2 = Rectangle((-40, 69.28), 80, 0, 120, linewidth=lw, color=color)\n",
    "    \n",
    "    # Assume x distance is also 40 for the endpoint\n",
    "    inner_line_3 = Rectangle((53.20, 150.89), 290, 0, 70.53, linewidth=lw, color=color)\n",
    "    inner_line_4 = Rectangle((-53.20, 150.89), 290, 0, 109.47, linewidth=lw, color=color)\n",
    "    \n",
    "    # Assume y distance is also 92.5 for the endpoint\n",
    "    inner_line_5 = Rectangle((130.54, 92.5), 80, 0, 35.32, linewidth=lw, color=color)\n",
    "    inner_line_6 = Rectangle((-130.54, 92.5), 80, 0, 144.68, linewidth=lw, color=color)\n",
    "    \n",
    "    \n",
    "    # List of the court elements to be plotted onto the axes\n",
    "    court_elements = [hoop, backboard, outer_box, inner_box, top_free_throw,\n",
    "                        bottom_free_throw, restricted, corner_three_a,\n",
    "                        corner_three_b, three_arc, center_outer_arc,\n",
    "                        center_inner_arc, inner_circle, outer_circle,\n",
    "                        corner_three_a_x, corner_three_b_x,\n",
    "                        inner_line_1, inner_line_2, inner_line_3, inner_line_4, inner_line_5, inner_line_6]\n",
    "else:\n",
    "    # List of the court elements to be plotted onto the axes\n",
    "    court_elements = [hoop, backboard, outer_box, inner_box, top_free_throw,\n",
    "                        bottom_free_throw, restricted, corner_three_a,\n",
    "                        corner_three_b, three_arc, center_outer_arc,\n",
    "                        center_inner_arc]\n",
    "\n",
    "if outer_lines:\n",
    "    # Draw the half court line, baseline and side out bound lines\n",
    "    outer_lines = Rectangle((-250, -47.5), 500, 470, linewidth=lw,\n",
    "                            color=color, fill=False)\n",
    "    court_elements.append(outer_lines)\n",
    "\n",
    "# Add the court elements onto the axes\n",
    "for element in court_elements:\n",
    "    ax.add_patch(element)\n",
    "    "
   ]
  },
  {
   "cell_type": "code",
   "execution_count": null,
   "metadata": {},
   "outputs": [],
   "source": [
    "x_missed = data[data['EVENT_TYPE'] == 'Missed Shot']['LOC_X']\n",
    "y_missed = data[data['EVENT_TYPE'] == 'Missed Shot']['LOC_Y']\n",
    "\n",
    "x_made = data[data['EVENT_TYPE'] == 'Made Shot']['LOC_X']\n",
    "y_made = data[data['EVENT_TYPE'] == 'Made Shot']['LOC_Y']"
   ]
  },
  {
   "attachments": {},
   "cell_type": "markdown",
   "metadata": {},
   "source": [
    "# HEX MAP"
   ]
  },
  {
   "cell_type": "code",
   "execution_count": 143,
   "metadata": {},
   "outputs": [],
   "source": [
    "from matplotlib.colors import ListedColormap\n",
    "from matplotlib.colors import BoundaryNorm\n",
    "import numpy as np\n",
    "from matplotlib.collections import PatchCollection\n",
    "from scipy.stats import percentileofscore\n",
    "from matplotlib.path import Path\n",
    "from matplotlib.patches import PathPatch"
   ]
  },
  {
   "cell_type": "code",
   "execution_count": 111,
   "metadata": {},
   "outputs": [
    {
     "data": {
      "text/plain": [
       "Index(['GRID_TYPE', 'SHOT_ZONE_BASIC', 'SHOT_ZONE_AREA', 'SHOT_ZONE_RANGE',\n",
       "       'FGA', 'FGM', 'FG_PCT'],\n",
       "      dtype='object')"
      ]
     },
     "execution_count": 111,
     "metadata": {},
     "output_type": "execute_result"
    }
   ],
   "source": [
    "data = shotchartlist[0]\n",
    "data2 = shotchartlist[1]\n",
    "data2.columns"
   ]
  },
  {
   "cell_type": "code",
   "execution_count": 112,
   "metadata": {},
   "outputs": [
    {
     "data": {
      "text/plain": [
       "Index(['GRID_TYPE', 'GAME_ID', 'GAME_EVENT_ID', 'PLAYER_ID', 'PLAYER_NAME',\n",
       "       'TEAM_ID', 'TEAM_NAME', 'PERIOD', 'MINUTES_REMAINING',\n",
       "       'SECONDS_REMAINING', 'EVENT_TYPE', 'ACTION_TYPE', 'SHOT_TYPE',\n",
       "       'SHOT_ZONE_BASIC', 'SHOT_ZONE_AREA', 'SHOT_ZONE_RANGE', 'SHOT_DISTANCE',\n",
       "       'LOC_X', 'LOC_Y', 'SHOT_ATTEMPTED_FLAG', 'SHOT_MADE_FLAG', 'GAME_DATE',\n",
       "       'HTM', 'VTM'],\n",
       "      dtype='object')"
      ]
     },
     "execution_count": 112,
     "metadata": {},
     "output_type": "execute_result"
    }
   ],
   "source": [
    "data.columns"
   ]
  },
  {
   "cell_type": "code",
   "execution_count": 119,
   "metadata": {},
   "outputs": [],
   "source": [
    "# 聯盟個位置的出手平均及命中率計算\n",
    "LA = data2.loc[:,['SHOT_ZONE_AREA','SHOT_ZONE_RANGE', 'FGA', 'FGM']].groupby(['SHOT_ZONE_AREA', 'SHOT_ZONE_RANGE']).sum()\n",
    "LA['FGP'] = 1.0*LA['FGM']/LA['FGA']\n",
    "player = data.groupby(['SHOT_ZONE_AREA','SHOT_ZONE_RANGE','SHOT_MADE_FLAG']).size().unstack(fill_value=0)\n",
    "player['FGP'] = 1.0*player.loc[:,1]/player.sum(axis=1)\n",
    "player_vs_league = (player.loc[:,'FGP'] - LA.loc[:,'FGP'])*100  \n",
    "data_n = pd.merge(data, player_vs_league, on=['SHOT_ZONE_AREA', 'SHOT_ZONE_RANGE'], how='right')\n"
   ]
  },
  {
   "cell_type": "code",
   "execution_count": 128,
   "metadata": {},
   "outputs": [
    {
     "data": {
      "text/plain": [
       "761"
      ]
     },
     "execution_count": 128,
     "metadata": {},
     "output_type": "execute_result"
    }
   ],
   "source": [
    "len(data)"
   ]
  },
  {
   "cell_type": "code",
   "execution_count": 150,
   "metadata": {},
   "outputs": [],
   "source": [
    "colors = ['#00ffef', '#0ABAB5', '#3964C3', '#0437F2', '#003153', '#000080']\n",
    "cmap = ListedColormap(colors)\n",
    "boundaries = [-np.inf, -9, -3, 0, 3, 9, np.inf]\n",
    "norm = BoundaryNorm(boundaries, cmap.N, clip=True)  \n",
    "x = data['LOC_X']\n",
    "y = data['LOC_Y']\n",
    "hexbin = ax.hexbin(x, y, gridsize=40, cmap=cmap, norm=norm, extent=[-275, 275, -50, 425])\n",
    "hexbin2 = ax.hexbin(x, y, C=data_n['FGP'], gridsize=40, cmap=cmap, norm=norm, extent=[-275, 275, -50, 425])\n"
   ]
  },
  {
   "cell_type": "code",
   "execution_count": 142,
   "metadata": {},
   "outputs": [
    {
     "data": {
      "text/plain": [
       "array([ 0.,  1.,  2.,  3.,  4.,  5.,  9., 10., 13., 18., 19., 20., 22.,\n",
       "       23., 27., 31., 32., 78., 89.])"
      ]
     },
     "execution_count": 142,
     "metadata": {},
     "output_type": "execute_result"
    }
   ],
   "source": [
    "np.unique(np.array(list(hexbin.get_array())))\n"
   ]
  },
  {
   "cell_type": "code",
   "execution_count": 132,
   "metadata": {},
   "outputs": [
    {
     "data": {
      "text/plain": [
       "array([-275.00000055,  -29.34782609])"
      ]
     },
     "execution_count": 132,
     "metadata": {},
     "output_type": "execute_result"
    }
   ],
   "source": []
  },
  {
   "cell_type": "code",
   "execution_count": 151,
   "metadata": {},
   "outputs": [
    {
     "data": {
      "image/png": "[encoded data removed]",
      "text/plain": [
       "<Figure size 1200x1100 with 1 Axes>"
      ]
     },
     "metadata": {},
     "output_type": "display_data"
    }
   ],
   "source": [
    "plt.rcParams['figure.figsize'] = (12, 11)\n",
    "\n",
    "ax = plt.gca()\n",
    "ax.set_xlim(xlim)\n",
    "ax.set_ylim(ylim)\n",
    "\n",
    "################################################################################################\n",
    "# initialize hex graphs\n",
    "offsets = hexbin.get_offsets()\n",
    "orgpath = hexbin.get_paths()[0]\n",
    "verts = orgpath.vertices\n",
    "values1 = hexbin.get_array()\n",
    "values2 = hexbin2.get_array()\n",
    "ma = values1.max()\n",
    "patches = []\n",
    "\n",
    "for offset,val in zip(offsets,values1):\n",
    "    # Adding condition for minimum size \n",
    "    # offset is the respective position of each hexagons\n",
    "    \n",
    "    # remove 0 to compare frequency without 0s\n",
    "    filtered_list = list(filter(lambda num: num != 0, values1))\n",
    "    \n",
    "    # we also skip frequency counts that are 0s\n",
    "    # this is to discount hexbins with no occurences\n",
    "    # default value hexagons are the frequencies\n",
    "    if (int(val) == 0):\n",
    "        continue\n",
    "    elif (percentileofscore(filtered_list, val) < 33.33):\n",
    "        #print(percentileofscore(values1, val))\n",
    "        #print(\"bot\")\n",
    "        v1 = verts*0.3 + offset\n",
    "    elif (percentileofscore(filtered_list, val) > 69.99):\n",
    "        #print(percentileofscore(values1, val))\n",
    "        #print(\"top\")\n",
    "        v1 = verts + offset\n",
    "    else:\n",
    "        #print(\"mid\")\n",
    "        v1 = verts*0.6 + offset\n",
    "    \n",
    "    path = Path(v1, orgpath.codes)\n",
    "    patch = PathPatch(path)\n",
    "    patches.append(patch)\n",
    "\n",
    "pc = PatchCollection(patches, cmap=cmap, norm=norm)\n",
    "# sets color\n",
    "# so hexbin with C=data['FGP']\n",
    "pc.set_array(values2)\n",
    "\n",
    "ax.add_collection(pc)\n",
    "hexbin.remove()\n",
    "hexbin2.remove()\n",
    "\n",
    "###################################################################################################\n",
    "\n",
    "plt.show()"
   ]
  },
  {
   "cell_type": "code",
   "execution_count": 146,
   "metadata": {},
   "outputs": [
    {
     "ename": "NameError",
     "evalue": "name 'draw_court' is not defined",
     "output_type": "error",
     "traceback": [
      "\u001b[0;31m---------------------------------------------------------------------------\u001b[0m",
      "\u001b[0;31mNameError\u001b[0m                                 Traceback (most recent call last)",
      "Cell \u001b[0;32mIn[146], line 16\u001b[0m\n\u001b[1;32m     13\u001b[0m ax\u001b[39m.\u001b[39mset_title(title, fontsize\u001b[39m=\u001b[39m\u001b[39m18\u001b[39m)\n\u001b[1;32m     15\u001b[0m \u001b[39m# draws the court\u001b[39;00m\n\u001b[0;32m---> 16\u001b[0m draw_court(ax, color\u001b[39m=\u001b[39mline_color, lw\u001b[39m=\u001b[39mcourt_lw, outer_lines\u001b[39m=\u001b[39mouter_lines)\n\u001b[1;32m     18\u001b[0m x \u001b[39m=\u001b[39m data[\u001b[39m'\u001b[39m\u001b[39mLOC_X\u001b[39m\u001b[39m'\u001b[39m]\n\u001b[1;32m     19\u001b[0m y \u001b[39m=\u001b[39m data[\u001b[39m'\u001b[39m\u001b[39mLOC_Y\u001b[39m\u001b[39m'\u001b[39m]\n",
      "\u001b[0;31mNameError\u001b[0m: name 'draw_court' is not defined"
     ]
    }
   ],
   "source": [
    "if ax is None:\n",
    "    ax = plt.gca()\n",
    "    ax.set_facecolor(court_color)\n",
    "\n",
    "if not flip_court:\n",
    "    ax.set_xlim(xlim)\n",
    "    ax.set_ylim(ylim)\n",
    "else:\n",
    "    ax.set_xlim(xlim[::-1])\n",
    "    ax.set_ylim(ylim[::-1])\n",
    "\n",
    "ax.tick_params(labelbottom=\"off\", labelleft=\"off\")\n",
    "ax.set_title(title, fontsize=18)\n",
    "\n",
    "# draws the court\n",
    "draw_court(ax, color=line_color, lw=court_lw, outer_lines=outer_lines)\n",
    "\n",
    "x = data['LOC_X']\n",
    "y = data['LOC_Y']\n",
    "    \n",
    "# for diverging color map\n",
    "colors = ['#2b7cb6', '#abd9e9', '#ffffbf', '#fdaf61', '#d7191c']\n",
    "cmap = ListedColormap(colors)\n",
    "# The 5 colors are separated by -9, -3, 0, 3, 9\n",
    "boundaries = [-np.inf, -9, -3, 0, 3, 9, np.inf]\n",
    "norm = BoundaryNorm(boundaries, cmap.N, clip=True)   \n",
    "\n",
    "# first hexbin required for bincount\n",
    "# second hexbin for the coloring of each hexagons\n",
    "hexbin = ax.hexbin(x, y, gridsize=40, cmap=cmap, norm=norm, extent=[-275, 275, -50, 425])\n",
    "hexbin2 = ax.hexbin(x, y, C=data['FGP'], gridsize=40, cmap=cmap, norm=norm, extent=[-275, 275, -50, 425])\n",
    "sized_hexbin(ax, hexbin, hexbin2, cmap, norm) \n",
    "\n",
    "# Set the spines to match the rest of court lines, makes outer_lines\n",
    "# somewhate unnecessary\n",
    "for spine in ax.spines:\n",
    "    ax.spines[spine].set_lw(court_lw)\n",
    "    ax.spines[spine].set_color(line_color)\n",
    "\n",
    "if despine:\n",
    "    ax.spines[\"top\"].set_visible(False)\n",
    "    ax.spines[\"bottom\"].set_visible(False)\n",
    "    ax.spines[\"right\"].set_visible(False)\n",
    "    ax.spines[\"left\"].set_visible(False)\n",
    "\n"
   ]
  },
  {
   "cell_type": "code",
   "execution_count": null,
   "metadata": {},
   "outputs": [],
   "source": []
  }
 ],
 "metadata": {
  "kernelspec": {
   "display_name": "Python 3",
   "language": "python",
   "name": "python3"
  },
  "language_info": {
   "codemirror_mode": {
    "name": "ipython",
    "version": 3
   },
   "file_extension": ".py",
   "mimetype": "text/x-python",
   "name": "python",
   "nbconvert_exporter": "python",
   "pygments_lexer": "ipython3",
   "version": "3.11.0"
  },
  "orig_nbformat": 4
 },
 "nbformat": 4,
 "nbformat_minor": 2
}
