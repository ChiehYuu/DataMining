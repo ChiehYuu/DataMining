{
 "cells": [
  {
   "cell_type": "code",
   "execution_count": 61,
   "metadata": {},
   "outputs": [],
   "source": [
    "import pandas as pd\n",
    "import numpy as np\n",
    "import matplotlib.pyplot as plt\n",
    "pd.set_option('display.max_columns', None)\n",
    "pd.set_option('display.max_rows', None)"
   ]
  },
  {
   "cell_type": "code",
   "execution_count": 62,
   "metadata": {},
   "outputs": [],
   "source": [
    "path = './Data/ALPHA_Eshop.csv'"
   ]
  },
  {
   "cell_type": "code",
   "execution_count": 63,
   "metadata": {},
   "outputs": [],
   "source": [
    "df = pd.read_csv(path)"
   ]
  },
  {
   "cell_type": "code",
   "execution_count": 64,
   "metadata": {},
   "outputs": [
    {
     "data": {
      "text/html": [
       "<div>\n",
       "<style scoped>\n",
       "    .dataframe tbody tr th:only-of-type {\n",
       "        vertical-align: middle;\n",
       "    }\n",
       "\n",
       "    .dataframe tbody tr th {\n",
       "        vertical-align: top;\n",
       "    }\n",
       "\n",
       "    .dataframe thead th {\n",
       "        text-align: right;\n",
       "    }\n",
       "</style>\n",
       "<table border=\"1\" class=\"dataframe\">\n",
       "  <thead>\n",
       "    <tr style=\"text-align: right;\">\n",
       "      <th></th>\n",
       "      <th>order_id</th>\n",
       "      <th>customer_unique_id</th>\n",
       "      <th>customer_city</th>\n",
       "      <th>order_purchase_timestamp</th>\n",
       "      <th>order_item_id</th>\n",
       "      <th>price</th>\n",
       "      <th>product_category_name</th>\n",
       "      <th>review_score</th>\n",
       "    </tr>\n",
       "  </thead>\n",
       "  <tbody>\n",
       "    <tr>\n",
       "      <th>0</th>\n",
       "      <td>fa65dad1b0e818e3ccc5cb0e39231352</td>\n",
       "      <td>8af7ac63b2efbcbd88e5b11505e8098a</td>\n",
       "      <td>cuiaba</td>\n",
       "      <td>2017/4/20 12:45</td>\n",
       "      <td>1</td>\n",
       "      <td>392.55</td>\n",
       "      <td>ferramentas_jardim</td>\n",
       "      <td>1.0</td>\n",
       "    </tr>\n",
       "    <tr>\n",
       "      <th>1</th>\n",
       "      <td>aa380313c19905dd1651bd21e75f09bd</td>\n",
       "      <td>c8d8b460d18c2896b78bcc324ffedd20</td>\n",
       "      <td>belo horizonte</td>\n",
       "      <td>2017/7/19 12:44</td>\n",
       "      <td>1</td>\n",
       "      <td>98.00</td>\n",
       "      <td>audio</td>\n",
       "      <td>5.0</td>\n",
       "    </tr>\n",
       "    <tr>\n",
       "      <th>2</th>\n",
       "      <td>6190a94657e1012983a274b831d9e811</td>\n",
       "      <td>ebf83d791ff75483ab26bc06ab002e32</td>\n",
       "      <td>maceio</td>\n",
       "      <td>2017/7/11 13:36</td>\n",
       "      <td>1</td>\n",
       "      <td>18.90</td>\n",
       "      <td>eletronicos</td>\n",
       "      <td>1.0</td>\n",
       "    </tr>\n",
       "    <tr>\n",
       "      <th>3</th>\n",
       "      <td>088683f795a3d30bfd61152c4fabdfb2</td>\n",
       "      <td>748d25636bb96e15d9919877f9b9095d</td>\n",
       "      <td>varzea grande</td>\n",
       "      <td>2017/7/13 10:02</td>\n",
       "      <td>1</td>\n",
       "      <td>29.90</td>\n",
       "      <td>pet_shop</td>\n",
       "      <td>1.0</td>\n",
       "    </tr>\n",
       "    <tr>\n",
       "      <th>4</th>\n",
       "      <td>1df2775799eecdf9dd85024255c611b7</td>\n",
       "      <td>7bfed641a832a3c4d47cdd36eb6eebb4</td>\n",
       "      <td>sao luis</td>\n",
       "      <td>2017/7/13 11:03</td>\n",
       "      <td>1</td>\n",
       "      <td>31.90</td>\n",
       "      <td>informatica_acessorios</td>\n",
       "      <td>1.0</td>\n",
       "    </tr>\n",
       "  </tbody>\n",
       "</table>\n",
       "</div>"
      ],
      "text/plain": [
       "                           order_id                customer_unique_id   \n",
       "0  fa65dad1b0e818e3ccc5cb0e39231352  8af7ac63b2efbcbd88e5b11505e8098a  \\\n",
       "1  aa380313c19905dd1651bd21e75f09bd  c8d8b460d18c2896b78bcc324ffedd20   \n",
       "2  6190a94657e1012983a274b831d9e811  ebf83d791ff75483ab26bc06ab002e32   \n",
       "3  088683f795a3d30bfd61152c4fabdfb2  748d25636bb96e15d9919877f9b9095d   \n",
       "4  1df2775799eecdf9dd85024255c611b7  7bfed641a832a3c4d47cdd36eb6eebb4   \n",
       "\n",
       "    customer_city order_purchase_timestamp  order_item_id   price   \n",
       "0          cuiaba          2017/4/20 12:45              1  392.55  \\\n",
       "1  belo horizonte          2017/7/19 12:44              1   98.00   \n",
       "2          maceio          2017/7/11 13:36              1   18.90   \n",
       "3   varzea grande          2017/7/13 10:02              1   29.90   \n",
       "4        sao luis          2017/7/13 11:03              1   31.90   \n",
       "\n",
       "    product_category_name  review_score  \n",
       "0      ferramentas_jardim           1.0  \n",
       "1                   audio           5.0  \n",
       "2             eletronicos           1.0  \n",
       "3                pet_shop           1.0  \n",
       "4  informatica_acessorios           1.0  "
      ]
     },
     "execution_count": 64,
     "metadata": {},
     "output_type": "execute_result"
    }
   ],
   "source": [
    "df.head()"
   ]
  },
  {
   "cell_type": "code",
   "execution_count": 16,
   "metadata": {},
   "outputs": [
    {
     "data": {
      "text/plain": [
       "111752"
      ]
     },
     "execution_count": 16,
     "metadata": {},
     "output_type": "execute_result"
    }
   ],
   "source": [
    "len(df)"
   ]
  },
  {
   "cell_type": "code",
   "execution_count": 9,
   "metadata": {},
   "outputs": [
    {
     "data": {
      "text/plain": [
       "count    111752.000000\n",
       "mean        120.351579\n",
       "std         182.692880\n",
       "min           0.850000\n",
       "25%          39.900000\n",
       "50%          74.990000\n",
       "75%         134.900000\n",
       "max        6735.000000\n",
       "Name: price, dtype: float64"
      ]
     },
     "execution_count": 9,
     "metadata": {},
     "output_type": "execute_result"
    }
   ],
   "source": [
    "df.price.describe()"
   ]
  },
  {
   "cell_type": "code",
   "execution_count": 10,
   "metadata": {},
   "outputs": [],
   "source": [
    "data_list = df.price.describe()"
   ]
  },
  {
   "cell_type": "code",
   "execution_count": 11,
   "metadata": {},
   "outputs": [],
   "source": [
    "data_columns = data_list.index"
   ]
  },
  {
   "cell_type": "code",
   "execution_count": 40,
   "metadata": {},
   "outputs": [],
   "source": [
    "plt.rcParams.update({'font.size': 22})"
   ]
  },
  {
   "cell_type": "code",
   "execution_count": 41,
   "metadata": {},
   "outputs": [
    {
     "data": {
      "image/png": "[encoded data removed]",
      "text/plain": [
       "<Figure size 1600x200 with 1 Axes>"
      ]
     },
     "metadata": {},
     "output_type": "display_data"
    }
   ],
   "source": [
    "plt.figure(figsize=(16, 2))\n",
    "plt.table(cellText=[data_list], colLabels=data_columns, loc='center')\n",
    "plt.axis('off')\n",
    "plt.show()"
   ]
  },
  {
   "cell_type": "code",
   "execution_count": 49,
   "metadata": {},
   "outputs": [],
   "source": [
    "price_range = ['<50', '50-100', '100-150', '150-200', '200-250', '250-300', '300-350','>350']\n",
    "for row in df.itertuples():\n",
    "    if row.price < 50:\n",
    "        df.loc[row.Index, 'price_range'] = price_range[0]\n",
    "    elif row.price < 100:\n",
    "        df.loc[row.Index, 'price_range'] = price_range[1]\n",
    "    elif row.price < 150:\n",
    "        df.loc[row.Index, 'price_range'] = price_range[2]\n",
    "    elif row.price < 200:\n",
    "        df.loc[row.Index, 'price_range'] = price_range[3]\n",
    "    elif row.price < 250:\n",
    "        df.loc[row.Index, 'price_range'] = price_range[4]\n",
    "    elif row.price < 300:\n",
    "        df.loc[row.Index, 'price_range'] = price_range[5]\n",
    "    elif row.price < 350:\n",
    "        df.loc[row.Index, 'price_range'] = price_range[6]\n",
    "    else:\n",
    "        df.loc[row.Index, 'price_range'] = price_range[7]\n",
    "    \n"
   ]
  },
  {
   "cell_type": "code",
   "execution_count": 58,
   "metadata": {},
   "outputs": [
    {
     "data": {
      "image/png": "[encoded data removed]",
      "text/plain": [
       "<Figure size 1600x800 with 1 Axes>"
      ]
     },
     "metadata": {},
     "output_type": "display_data"
    }
   ],
   "source": [
    "ax = df.price_range.value_counts().plot(kind='barh', figsize=(16, 8), rot=0, fontsize=20,legend=True)\n",
    "ax.set_xlabel(\"Number of products\", fontsize=20)\n",
    "ax.set_ylabel(\"Price range\", fontsize=20)\n",
    "ax.set_title(\"Number of products in each price range\", fontsize=20)\n",
    "ax.legend(fontsize=20)\n",
    "\n",
    "for idx, val in enumerate(df.price_range.value_counts().values):\n",
    "    ax.text(val, idx, str(val), fontsize=20)\n",
    "plt.show()"
   ]
  },
  {
   "cell_type": "code",
   "execution_count": 11,
   "metadata": {},
   "outputs": [
    {
     "data": {
      "text/plain": [
       "array(['ferramentas_jardim', 'audio', 'eletronicos', 'pet_shop',\n",
       "       'informatica_acessorios', 'perfumaria', 'cama_mesa_banho',\n",
       "       'papelaria', 'beleza_saude', nan, 'esporte_lazer',\n",
       "       'moveis_decoracao', 'brinquedos', 'telefonia', 'malas_acessorios',\n",
       "       'bebes', 'utilidades_domesticas', 'bebidas',\n",
       "       'fashion_underwear_e_moda_praia', 'casa_construcao',\n",
       "       'industria_comercio_e_negocios', 'artes', 'livros_interesse_geral',\n",
       "       'cool_stuff', 'instrumentos_musicais', 'relogios_presentes',\n",
       "       'fashion_bolsas_e_acessorios', 'eletroportateis',\n",
       "       'moveis_escritorio', 'automotivo', 'climatizacao', 'dvds_blu_ray',\n",
       "       'construcao_ferramentas_construcao', 'portateis_casa_forno_e_cafe',\n",
       "       'telefonia_fixa', 'pcs', 'casa_conforto', 'market_place',\n",
       "       'eletrodomesticos_2', 'eletrodomesticos',\n",
       "       'agro_industria_e_comercio', 'construcao_ferramentas_jardim',\n",
       "       'moveis_colchao_e_estofado', 'cine_foto', 'moveis_sala',\n",
       "       'alimentos', 'alimentos_bebidas', 'consoles_games',\n",
       "       'moveis_quarto', 'livros_tecnicos', 'fashion_roupa_masculina',\n",
       "       'artigos_de_festas',\n",
       "       'moveis_cozinha_area_de_servico_jantar_e_jardim',\n",
       "       'fraldas_higiene', 'construcao_ferramentas_iluminacao',\n",
       "       'fashion_calcados', 'sinalizacao_e_seguranca',\n",
       "       'fashion_roupa_feminina', 'construcao_ferramentas_seguranca',\n",
       "       'livros_importados', 'artigos_de_natal',\n",
       "       'tablets_impressao_imagem', 'construcao_ferramentas_ferramentas',\n",
       "       'artes_e_artesanato', 'cds_dvds_musicais', 'pc_gamer', 'musica',\n",
       "       'casa_conforto_2', 'seguros_e_servicos', 'flores',\n",
       "       'fashion_esporte', 'portateis_cozinha_e_preparadores_de_alimentos',\n",
       "       'la_cuisine', 'fashion_roupa_infanto_juvenil'], dtype=object)"
      ]
     },
     "execution_count": 11,
     "metadata": {},
     "output_type": "execute_result"
    }
   ],
   "source": [
    "df.product_category_name.unique()"
   ]
  },
  {
   "cell_type": "code",
   "execution_count": 14,
   "metadata": {},
   "outputs": [
    {
     "data": {
      "text/plain": [
       "product_category_name\n",
       "cama_mesa_banho           11089\n",
       "beleza_saude               9585\n",
       "esporte_lazer              8573\n",
       "moveis_decoracao           8229\n",
       "informatica_acessorios     7760\n",
       "utilidades_domesticas      6903\n",
       "relogios_presentes         5965\n",
       "telefonia                  4518\n",
       "ferramentas_jardim         4323\n",
       "automotivo                 4195\n",
       "Name: order_id, dtype: int64"
      ]
     },
     "execution_count": 14,
     "metadata": {},
     "output_type": "execute_result"
    }
   ],
   "source": [
    "df.groupby('product_category_name').count()['order_id'].sort_values(ascending=False).head(10)"
   ]
  },
  {
   "cell_type": "code",
   "execution_count": 60,
   "metadata": {},
   "outputs": [
    {
     "data": {
      "text/html": [
       "<div>\n",
       "<style scoped>\n",
       "    .dataframe tbody tr th:only-of-type {\n",
       "        vertical-align: middle;\n",
       "    }\n",
       "\n",
       "    .dataframe tbody tr th {\n",
       "        vertical-align: top;\n",
       "    }\n",
       "\n",
       "    .dataframe thead th {\n",
       "        text-align: right;\n",
       "    }\n",
       "</style>\n",
       "<table border=\"1\" class=\"dataframe\">\n",
       "  <thead>\n",
       "    <tr style=\"text-align: right;\">\n",
       "      <th></th>\n",
       "      <th>order_id</th>\n",
       "      <th>customer_unique_id</th>\n",
       "      <th>customer_city</th>\n",
       "      <th>order_purchase_timestamp</th>\n",
       "      <th>order_item_id</th>\n",
       "      <th>price</th>\n",
       "      <th>product_category_name</th>\n",
       "      <th>review_score</th>\n",
       "      <th>price_range</th>\n",
       "    </tr>\n",
       "  </thead>\n",
       "  <tbody>\n",
       "    <tr>\n",
       "      <th>0</th>\n",
       "      <td>fa65dad1b0e818e3ccc5cb0e39231352</td>\n",
       "      <td>8af7ac63b2efbcbd88e5b11505e8098a</td>\n",
       "      <td>cuiaba</td>\n",
       "      <td>2017/4/20 12:45</td>\n",
       "      <td>1</td>\n",
       "      <td>392.55</td>\n",
       "      <td>ferramentas_jardim</td>\n",
       "      <td>1.0</td>\n",
       "      <td>&gt;350</td>\n",
       "    </tr>\n",
       "    <tr>\n",
       "      <th>1</th>\n",
       "      <td>aa380313c19905dd1651bd21e75f09bd</td>\n",
       "      <td>c8d8b460d18c2896b78bcc324ffedd20</td>\n",
       "      <td>belo horizonte</td>\n",
       "      <td>2017/7/19 12:44</td>\n",
       "      <td>1</td>\n",
       "      <td>98.00</td>\n",
       "      <td>audio</td>\n",
       "      <td>5.0</td>\n",
       "      <td>50-100</td>\n",
       "    </tr>\n",
       "    <tr>\n",
       "      <th>2</th>\n",
       "      <td>6190a94657e1012983a274b831d9e811</td>\n",
       "      <td>ebf83d791ff75483ab26bc06ab002e32</td>\n",
       "      <td>maceio</td>\n",
       "      <td>2017/7/11 13:36</td>\n",
       "      <td>1</td>\n",
       "      <td>18.90</td>\n",
       "      <td>eletronicos</td>\n",
       "      <td>1.0</td>\n",
       "      <td>&lt;50</td>\n",
       "    </tr>\n",
       "    <tr>\n",
       "      <th>3</th>\n",
       "      <td>088683f795a3d30bfd61152c4fabdfb2</td>\n",
       "      <td>748d25636bb96e15d9919877f9b9095d</td>\n",
       "      <td>varzea grande</td>\n",
       "      <td>2017/7/13 10:02</td>\n",
       "      <td>1</td>\n",
       "      <td>29.90</td>\n",
       "      <td>pet_shop</td>\n",
       "      <td>1.0</td>\n",
       "      <td>&lt;50</td>\n",
       "    </tr>\n",
       "    <tr>\n",
       "      <th>4</th>\n",
       "      <td>1df2775799eecdf9dd85024255c611b7</td>\n",
       "      <td>7bfed641a832a3c4d47cdd36eb6eebb4</td>\n",
       "      <td>sao luis</td>\n",
       "      <td>2017/7/13 11:03</td>\n",
       "      <td>1</td>\n",
       "      <td>31.90</td>\n",
       "      <td>informatica_acessorios</td>\n",
       "      <td>1.0</td>\n",
       "      <td>&lt;50</td>\n",
       "    </tr>\n",
       "  </tbody>\n",
       "</table>\n",
       "</div>"
      ],
      "text/plain": [
       "                           order_id                customer_unique_id   \n",
       "0  fa65dad1b0e818e3ccc5cb0e39231352  8af7ac63b2efbcbd88e5b11505e8098a  \\\n",
       "1  aa380313c19905dd1651bd21e75f09bd  c8d8b460d18c2896b78bcc324ffedd20   \n",
       "2  6190a94657e1012983a274b831d9e811  ebf83d791ff75483ab26bc06ab002e32   \n",
       "3  088683f795a3d30bfd61152c4fabdfb2  748d25636bb96e15d9919877f9b9095d   \n",
       "4  1df2775799eecdf9dd85024255c611b7  7bfed641a832a3c4d47cdd36eb6eebb4   \n",
       "\n",
       "    customer_city order_purchase_timestamp  order_item_id   price   \n",
       "0          cuiaba          2017/4/20 12:45              1  392.55  \\\n",
       "1  belo horizonte          2017/7/19 12:44              1   98.00   \n",
       "2          maceio          2017/7/11 13:36              1   18.90   \n",
       "3   varzea grande          2017/7/13 10:02              1   29.90   \n",
       "4        sao luis          2017/7/13 11:03              1   31.90   \n",
       "\n",
       "    product_category_name  review_score price_range  \n",
       "0      ferramentas_jardim           1.0        >350  \n",
       "1                   audio           5.0      50-100  \n",
       "2             eletronicos           1.0         <50  \n",
       "3                pet_shop           1.0         <50  \n",
       "4  informatica_acessorios           1.0         <50  "
      ]
     },
     "execution_count": 60,
     "metadata": {},
     "output_type": "execute_result"
    }
   ],
   "source": [
    "df.head()"
   ]
  },
  {
   "cell_type": "code",
   "execution_count": 65,
   "metadata": {},
   "outputs": [
    {
     "data": {
      "text/plain": [
       "customer_unique_id\n",
       "c8460e4251689ba205045f3ea17884a1    24\n",
       "4546caea018ad8c692964e3382debd19    21\n",
       "698e1cf81d01a3d389d96145f7fa6df8    20\n",
       "c402f431464c72e27330a67f7b94d4fb    20\n",
       "0f5ac8d5c31de21d2f25e24be15bbffb    18\n",
       "8d50f5eadf50201ccdcedfb9e2ac8455    16\n",
       "11f97da02237a49c8e783dfda6f50e8e    15\n",
       "eae0a83d752b1dd32697e0e7b4221656    15\n",
       "31e412b9fb766b6794724ed17a41dfa6    14\n",
       "f7ea4eef770a388bd5b225acfc546604    14\n",
       "Name: order_id, dtype: int64"
      ]
     },
     "execution_count": 65,
     "metadata": {},
     "output_type": "execute_result"
    }
   ],
   "source": [
    "df.groupby('customer_unique_id').count()['order_id'].sort_values(ascending=False).head(10)"
   ]
  },
  {
   "cell_type": "code",
   "execution_count": 77,
   "metadata": {},
   "outputs": [
    {
     "data": {
      "text/plain": [
       "0    59.9\n",
       "Name: price, dtype: float64"
      ]
     },
     "execution_count": 77,
     "metadata": {},
     "output_type": "execute_result"
    }
   ],
   "source": [
    "df.groupby('customer_unique_id')['price'].sum().sort_values(ascending=False).mode()"
   ]
  },
  {
   "cell_type": "code",
   "execution_count": 76,
   "metadata": {},
   "outputs": [
    {
     "data": {
      "text/plain": [
       "89.8"
      ]
     },
     "execution_count": 76,
     "metadata": {},
     "output_type": "execute_result"
    }
   ],
   "source": [
    "df.groupby('customer_unique_id')['price'].sum().sort_values(ascending=False).median()"
   ]
  },
  {
   "cell_type": "code",
   "execution_count": null,
   "metadata": {},
   "outputs": [],
   "source": []
  },
  {
   "cell_type": "code",
   "execution_count": 71,
   "metadata": {},
   "outputs": [
    {
     "data": {
      "text/plain": [
       "count                           111752\n",
       "mean     2018-01-02 14:00:12.883527936\n",
       "min                2017-01-05 11:56:00\n",
       "25%                2017-09-15 12:14:00\n",
       "50%                2018-01-20 19:56:00\n",
       "75%                2018-05-04 23:19:15\n",
       "max                2018-08-29 15:00:00\n",
       "Name: order_purchase_timestamp, dtype: object"
      ]
     },
     "execution_count": 71,
     "metadata": {},
     "output_type": "execute_result"
    }
   ],
   "source": [
    "# filter the recent time of order\n",
    "df['order_purchase_timestamp'] = pd.to_datetime(df['order_purchase_timestamp'])\n",
    "df['order_purchase_timestamp'].describe()"
   ]
  },
  {
   "cell_type": "code",
   "execution_count": null,
   "metadata": {},
   "outputs": [],
   "source": []
  }
 ],
 "metadata": {
  "kernelspec": {
   "display_name": "Python 3",
   "language": "python",
   "name": "python3"
  },
  "language_info": {
   "codemirror_mode": {
    "name": "ipython",
    "version": 3
   },
   "file_extension": ".py",
   "mimetype": "text/x-python",
   "name": "python",
   "nbconvert_exporter": "python",
   "pygments_lexer": "ipython3",
   "version": "3.11.0"
  },
  "orig_nbformat": 4
 },
 "nbformat": 4,
 "nbformat_minor": 2
}
