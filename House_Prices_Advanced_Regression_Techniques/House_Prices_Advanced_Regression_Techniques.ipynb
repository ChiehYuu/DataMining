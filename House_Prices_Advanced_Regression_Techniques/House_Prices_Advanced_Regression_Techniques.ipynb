{
 "cells": [
  {
   "cell_type": "code",
   "execution_count": 4,
   "metadata": {},
   "outputs": [],
   "source": [
    "import numpy as np\n",
    "import pandas as pd"
   ]
  },
  {
   "cell_type": "code",
   "execution_count": 3,
   "metadata": {},
   "outputs": [
    {
     "name": "stdout",
     "output_type": "stream",
     "text": [
      "Collecting pandas\n",
      "  Downloading pandas-2.0.1-cp310-cp310-win_amd64.whl (10.7 MB)\n",
      "     ---------------------------------------- 0.0/10.7 MB ? eta -:--:--\n",
      "     ---------------------------------------- 0.0/10.7 MB 1.3 MB/s eta 0:00:09\n",
      "     --------------------------------------- 0.0/10.7 MB 487.6 kB/s eta 0:00:22\n",
      "     --------------------------------------- 0.1/10.7 MB 871.5 kB/s eta 0:00:13\n",
      "     --------------------------------------- 0.1/10.7 MB 819.2 kB/s eta 0:00:13\n",
      "      -------------------------------------- 0.2/10.7 MB 978.3 kB/s eta 0:00:11\n",
      "      -------------------------------------- 0.2/10.7 MB 903.5 kB/s eta 0:00:12\n",
      "      -------------------------------------- 0.2/10.7 MB 981.9 kB/s eta 0:00:11\n",
      "     - -------------------------------------- 0.3/10.7 MB 1.1 MB/s eta 0:00:10\n",
      "     - -------------------------------------- 0.4/10.7 MB 1.2 MB/s eta 0:00:09\n",
      "     - -------------------------------------- 0.5/10.7 MB 1.5 MB/s eta 0:00:07\n",
      "     -- ------------------------------------- 0.6/10.7 MB 1.7 MB/s eta 0:00:06\n",
      "     --- ------------------------------------ 0.9/10.7 MB 2.2 MB/s eta 0:00:05\n",
      "     ---- ----------------------------------- 1.2/10.7 MB 2.7 MB/s eta 0:00:04\n",
      "     ------ --------------------------------- 1.8/10.7 MB 3.6 MB/s eta 0:00:03\n",
      "     -------- ------------------------------- 2.3/10.7 MB 4.3 MB/s eta 0:00:02\n",
      "     ------------ --------------------------- 3.3/10.7 MB 5.8 MB/s eta 0:00:02\n",
      "     -------------- ------------------------- 3.8/10.7 MB 6.6 MB/s eta 0:00:02\n",
      "     -------------- ------------------------- 3.8/10.7 MB 6.6 MB/s eta 0:00:02\n",
      "     -------------- ------------------------- 3.9/10.7 MB 5.9 MB/s eta 0:00:02\n",
      "     -------------- ------------------------- 3.9/10.7 MB 5.9 MB/s eta 0:00:02\n",
      "     ---------------------- ----------------- 6.1/10.7 MB 8.1 MB/s eta 0:00:01\n",
      "     ------------------------------- -------- 8.3/10.7 MB 10.9 MB/s eta 0:00:01\n",
      "     ---------------------------------- ----- 9.3/10.7 MB 11.2 MB/s eta 0:00:01\n",
      "     --------------------------------------  10.5/10.7 MB 17.2 MB/s eta 0:00:01\n",
      "     --------------------------------------  10.6/10.7 MB 19.8 MB/s eta 0:00:01\n",
      "     --------------------------------------- 10.7/10.7 MB 18.2 MB/s eta 0:00:00\n",
      "Requirement already satisfied: numpy>=1.21.0 in c:\\users\\asrock\\appdata\\local\\programs\\python\\python310\\lib\\site-packages (from pandas) (1.24.3)\n",
      "Requirement already satisfied: python-dateutil>=2.8.2 in c:\\users\\asrock\\appdata\\roaming\\python\\python310\\site-packages (from pandas) (2.8.2)\n",
      "Collecting pytz>=2020.1\n",
      "  Downloading pytz-2023.3-py2.py3-none-any.whl (502 kB)\n",
      "     ---------------------------------------- 0.0/502.3 kB ? eta -:--:--\n",
      "     ------------------------------------- 502.3/502.3 kB 30.8 MB/s eta 0:00:00\n",
      "Collecting tzdata>=2022.1\n",
      "  Downloading tzdata-2023.3-py2.py3-none-any.whl (341 kB)\n",
      "     ---------------------------------------- 0.0/341.8 kB ? eta -:--:--\n",
      "     ------------------------------------- 341.8/341.8 kB 20.7 MB/s eta 0:00:00\n",
      "Requirement already satisfied: six>=1.5 in c:\\users\\asrock\\appdata\\roaming\\python\\python310\\site-packages (from python-dateutil>=2.8.2->pandas) (1.16.0)\n",
      "Installing collected packages: pytz, tzdata, pandas\n",
      "Successfully installed pandas-2.0.1 pytz-2023.3 tzdata-2023.3\n"
     ]
    },
    {
     "name": "stderr",
     "output_type": "stream",
     "text": [
      "\n",
      "[notice] A new release of pip is available: 23.0.1 -> 23.1.2\n",
      "[notice] To update, run: python.exe -m pip install --upgrade pip\n"
     ]
    }
   ],
   "source": [
    "# Read the data\n",
    "train_df = pd.read_csv('./Data/train.csv', index_col='Id')\n",
    "test_df = pd.read_csv('./Data/test.csv', index_col='Id')\n"
   ]
  },
  {
   "cell_type": "code",
   "execution_count": null,
   "metadata": {},
   "outputs": [],
   "source": []
  }
 ],
 "metadata": {
  "kernelspec": {
   "display_name": "Python 3",
   "language": "python",
   "name": "python3"
  },
  "language_info": {
   "codemirror_mode": {
    "name": "ipython",
    "version": 3
   },
   "file_extension": ".py",
   "mimetype": "text/x-python",
   "name": "python",
   "nbconvert_exporter": "python",
   "pygments_lexer": "ipython3",
   "version": "3.10.11"
  },
  "orig_nbformat": 4,
  "vscode": {
   "interpreter": {
    "hash": "d7867f0de7cf90fcc8cbc159ae131fed13c739a4a9bf00c73754035d9fae4f51"
   }
  }
 },
 "nbformat": 4,
 "nbformat_minor": 2
}
